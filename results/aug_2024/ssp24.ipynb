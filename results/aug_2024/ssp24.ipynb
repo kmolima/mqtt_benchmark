{
 "cells": [
  {
   "cell_type": "code",
   "execution_count": 29,
   "id": "7a026cab-c72b-4a5c-b315-036efc5422d4",
   "metadata": {},
   "outputs": [],
   "source": [
    "import numpy as np\n",
    "import re\n",
    "import pprint\n",
    "from collections import defaultdict\n",
    "import os"
   ]
  },
  {
   "cell_type": "code",
   "execution_count": 30,
   "id": "02e955f3-451d-42db-a7e1-f3bb0b511948",
   "metadata": {},
   "outputs": [],
   "source": [
    "NUM_RUNS=5\n",
    "NUM_PUB=20\n",
    "NUM_QOS_CONFIG=3\n",
    "NUM_TOPIC_CONFIG=2\n",
    "NUM_MSG=1000\n",
    "NUM_BROKER=2"
   ]
  },
  {
   "cell_type": "code",
   "execution_count": 31,
   "id": "ec451585-ee68-4f9e-81e4-668136df6673",
   "metadata": {},
   "outputs": [],
   "source": [
    "# Define the regular expression pattern for a log entry\n",
    "log_pattern = re.compile(\n",
    "    r\"(?P<timestamp>\\d{4}-\\d{2}-\\d{2}T\\d{2}:\\d{2}:\\d{2}\\+\\d{4})\"\n",
    "    r\"\\[(?P<level>[A-Z]+)\\],\"\n",
    "    r\"(?P<message>.*)\"\n",
    ")"
   ]
  },
  {
   "cell_type": "code",
   "execution_count": 32,
   "id": "7f329683-1a4d-4d35-9c5e-443cba46f26a",
   "metadata": {},
   "outputs": [],
   "source": [
    "# Define the directory containing the log files\n",
    "log_directories = [\"subscriber/logs/config1/emqx\",\"subscriber/logs/config2/emqx\",\n",
    "                  \"subscriber/logs/config1/hivemq\",\"subscriber/logs/config2/hivemq\"]"
   ]
  },
  {
   "cell_type": "code",
   "execution_count": 33,
   "id": "0a481ac5-d7d8-4106-a264-13586e795e39",
   "metadata": {},
   "outputs": [
    {
     "name": "stdout",
     "output_type": "stream",
     "text": [
      "Number of logs: 60\n"
     ]
    }
   ],
   "source": [
    "#Store Log files \n",
    "log_files = list()\n",
    "\n",
    "# Store parsed log entries\n",
    "filtered_messages = []\n",
    "\n",
    "# Store the number of the execution benchmark run\n",
    "n_execs=dict()\n",
    "\n",
    "# Process each directory / config\n",
    "for directory in log_directories:\n",
    "    \n",
    "    # Process each log file\n",
    "    for f in os.listdir(directory):\n",
    "        if os.path.isfile(os.path.join(directory, f)):\n",
    "            \n",
    "            log_file = os.path.join(directory, f)\n",
    "            log_files.append(log_file)\n",
    "            \n",
    "            broker = os.path.basename(os.path.dirname(log_file))\n",
    "            \n",
    "            file_name=os.path.basename(log_files[0])\n",
    "            parts=log_file.split('-')\n",
    "            config=' '.join(parts[3:5])\n",
    "            qos=' '.join(parts[6:7]).removesuffix('.log')\n",
    "            exec_name = '-'.join(parts[1:])\n",
    "\n",
    "            if exec_name not in n_execs:\n",
    "                n_execs[exec_name] = 1\n",
    "            else:\n",
    "                n_execs[exec_name] = n_execs[exec_name] + 1\n",
    "            \n",
    "            with open(log_file, 'r') as file:\n",
    "                for line in file:\n",
    "                    _line=line.strip()\n",
    "                    match = log_pattern.match(_line)\n",
    "                    if match and (',topic/structure/' in _line): # Filter log messages that contain ',topic/structure/'\n",
    "                        log_entry = match.groupdict()\n",
    "                        log_entry['config'] = config\n",
    "                        log_entry['qos'] = qos\n",
    "                        log_entry['broker'] = broker\n",
    "                        log_entry['exec'] = n_execs[exec_name]\n",
    "                        filtered_messages.append(log_entry)\n",
    "    n_execs=dict()\n",
    "        \n",
    "print(f\"Number of logs: {len(log_files)}\")    "
   ]
  },
  {
   "cell_type": "code",
   "execution_count": 6,
   "id": "bd45dcb5-e629-407f-a2d7-f8c37ee52409",
   "metadata": {},
   "outputs": [
    {
     "name": "stdout",
     "output_type": "stream",
     "text": [
      "number of log entries: 993388\n"
     ]
    }
   ],
   "source": [
    "print(f\"number of log entries: {len(filtered_messages)}\")"
   ]
  },
  {
   "cell_type": "code",
   "execution_count": 7,
   "id": "2b7b939c-4ae9-4c27-a1e0-9f80972b49fb",
   "metadata": {},
   "outputs": [
    {
     "name": "stdout",
     "output_type": "stream",
     "text": [
      "Total messages sent per experiment: 20000\n",
      "Total messages sent in the whole experiment: 1200000\n"
     ]
    }
   ],
   "source": [
    "sent_messages_per_experiment = NUM_MSG * NUM_PUB  \n",
    "total_expected_messages = sent_messages_per_experiment * NUM_QOS_CONFIG * NUM_TOPIC_CONFIG * NUM_RUNS * NUM_BROKER\n",
    "print(f\"Total messages sent per experiment: {sent_messages_per_experiment}\")\n",
    "print(f\"Total messages sent in the whole experiment: {total_expected_messages}\")"
   ]
  },
  {
   "cell_type": "code",
   "execution_count": 8,
   "id": "e00baacc-27a6-4c8f-ae6a-452022a826ef",
   "metadata": {},
   "outputs": [],
   "source": [
    "# Filter log messages that contain ',topic/structure/'\n",
    "# filtered_messages = [log for log in parsed_logs if ',topic/structure/' in log['message']]"
   ]
  },
  {
   "cell_type": "code",
   "execution_count": 9,
   "id": "b4625dc2-e163-4c0d-bb6b-9b3377e472c9",
   "metadata": {},
   "outputs": [
    {
     "name": "stdout",
     "output_type": "stream",
     "text": [
      "{'timestamp': '2024-08-29T12:26:36+0000', 'level': 'INFO', 'message': 'e17c2273510949317a6a783fefd129544ea8190f22fb84ffa9c215e3449d0dc6,1724934396966.6882,1724934396978.5635,topic/structure/node5,500', 'config': 'config 2', 'qos': '1', 'broker': 'hivemq', 'exec': 3}\n"
     ]
    }
   ],
   "source": [
    "print(filtered_messages[852476])"
   ]
  },
  {
   "cell_type": "code",
   "execution_count": 10,
   "id": "bba15bc7-5a4e-4238-9dc1-1c891e59fd3f",
   "metadata": {},
   "outputs": [
    {
     "name": "stdout",
     "output_type": "stream",
     "text": [
      "Total number of data entries filtered: 993388\n"
     ]
    }
   ],
   "source": [
    "# Total number of data entries\n",
    "total_entries = len(filtered_messages)\n",
    "print(f\"Total number of data entries filtered: {total_entries}\")"
   ]
  },
  {
   "cell_type": "code",
   "execution_count": 11,
   "id": "7fee6e01-a16e-47ea-91f8-1c7d0914e8dc",
   "metadata": {},
   "outputs": [
    {
     "name": "stdout",
     "output_type": "stream",
     "text": [
      "Lost messages / Percentage: 206612 / 17.217666666666666%\n"
     ]
    }
   ],
   "source": [
    "lost_msgs=total_expected_messages-len(filtered_messages)\n",
    "print(f\"Lost messages / Percentage: {lost_msgs} / {lost_msgs/total_expected_messages*100}%\")"
   ]
  },
  {
   "cell_type": "code",
   "execution_count": 12,
   "id": "7151d22b-c5fd-4f14-bf78-adce1169b4c7",
   "metadata": {},
   "outputs": [],
   "source": [
    "# Creating numpy array with columns including the config and qos info\n",
    "entries_list = []\n",
    "for log in filtered_messages:\n",
    "    message = log['message']\n",
    "    config = log['config']\n",
    "    qos = log['qos']\n",
    "    broker = log['broker']\n",
    "    exec_num = log['exec']\n",
    "    parts = message.split(',')\n",
    "    if len(parts) >= 5:\n",
    "        row = [\n",
    "            parts[0],                             # Column 1 (index 0) UUID\n",
    "            (float(parts[2]) - float(parts[1])),  # Column 2 (index 1) Received Time - Send Time\n",
    "            parts[3],                             # Column 4 (index 3) Topic\n",
    "            int(parts[4]),                        # Column 5 (index 4) Size in bytes\n",
    "            config,                               # Column 6 (index 5) Topic structure configuration\n",
    "            qos,                                  # Column 7 (index 6) Subscription QoS\n",
    "            broker,                               # Column 8 (index 7) MQTT Broker\n",
    "            exec_num                              # Column 9 (index 8) Run #\n",
    "        ]\n",
    "        entries_list.append(tuple(row))\n",
    "        \n",
    "# Define a custom dtype for the structured array\n",
    "dtype = [('uuid', 'U64'), ('latency', 'f8'), ('topic', 'U64'), ('size', 'i4'), ('config', 'U64'), ('qos', 'i4'),('broker', 'U64'), ('exec','i4')]\n",
    "\n",
    "# Convert to NumPy structured array\n",
    "entries_np_array = np.array(entries_list, dtype=dtype)"
   ]
  },
  {
   "cell_type": "code",
   "execution_count": 13,
   "id": "47b354f5-a699-4dde-a319-c8061908c46a",
   "metadata": {},
   "outputs": [
    {
     "name": "stdout",
     "output_type": "stream",
     "text": [
      "('d456319c373b77195a173575053e6adcc0a266b1423d64de53c8bb268638cc75', 14.186279296875, 'topic/structure/node17', 500, 'config 1', 1, 'hivemq', 2)\n"
     ]
    }
   ],
   "source": [
    "print(entries_np_array[600000])"
   ]
  },
  {
   "cell_type": "code",
   "execution_count": 14,
   "id": "74c2e7ae-0f4c-4583-b45f-3202a61ddbc5",
   "metadata": {},
   "outputs": [
    {
     "name": "stdout",
     "output_type": "stream",
     "text": [
      "Duplicated entries based on the first column in the filtered messages: {}\n"
     ]
    }
   ],
   "source": [
    "# Check for duplicated entries based on the first column after filtering\n",
    "unique_ids, counts = np.unique(entries_np_array['uuid'], return_counts=True)\n",
    "duplicates = dict(zip(unique_ids[counts > 1], counts[counts > 1]))\n",
    "print(f\"Duplicated entries based on the first column in the filtered messages: {duplicates}\")"
   ]
  },
  {
   "cell_type": "code",
   "execution_count": 15,
   "id": "303b8034-6200-4cd1-b1d2-6e60ad2a1677",
   "metadata": {},
   "outputs": [
    {
     "name": "stdout",
     "output_type": "stream",
     "text": [
      "993388\n",
      "993388\n"
     ]
    }
   ],
   "source": [
    "# Creating subset by broker\n",
    "emqx_set = entries_np_array[entries_np_array['broker'] == \"emqx\" ]\n",
    "hivemq_set = entries_np_array[entries_np_array['broker'] == \"hivemq\"]\n",
    "total_sets = len(emqx_set)+len(hivemq_set)\n",
    "print(total_sets)\n",
    "print(len(entries_np_array))"
   ]
  },
  {
   "cell_type": "code",
   "execution_count": 21,
   "id": "07b3e163-f3de-4a01-ab83-a47d4d1fada8",
   "metadata": {},
   "outputs": [
    {
     "name": "stdout",
     "output_type": "stream",
     "text": [
      "Number of received messages for EMQX, config 1, QoS 0:\t73066\n",
      "Average of received messages for EMQX, config 1, QoS 0:\t14613\n",
      "Number of lost messages for EMQX, config 1, QoS 0:\t5387\n",
      "\n",
      "Number of received messages for EMQX, config 1, QoS 1:\t100000\n",
      "Average of received messages for EMQX, config 1, QoS 1:\t20000\n",
      "Number of lost messages for EMQX, config 1, QoS 1: 0\n",
      "\n",
      "Number of received messages for EMQX, config 1, QoS 2:\t100000\n",
      "Average received messages for EMQX, config 1, QoS 2:\t20000\n",
      "Number of lost messages for EMQX, config 1, QoS 2: 0\n",
      "\n",
      "Number of received messages for EMQX, config 2, QoS 0: 73075\n",
      "Average received messages for EMQX, config 2, QoS 0:\t14615\n",
      "Number of lost messages for EMQX, config 2, QoS 0: 5385\n",
      "\n",
      "Number of received messages for EMQX, config 2, QoS 1: 100000\n",
      "Average received messages for EMQX, config 2, QoS 1:\t20000\n",
      "Number of lost messages for EMQX, config 2, QoS 1: 0\n",
      "\n",
      "Number of received messages for EMQX, config 2, QoS 2: 100000\n",
      "Average received messages for EMQX, config 2, QoS 2:\t20000\n",
      "Number of lost messages for EMQX, config 2, QoS 2: 0\n",
      "\n"
     ]
    }
   ],
   "source": [
    "# Creating subset by topic configuration for EMQX\n",
    "emqx_config1_qos0_set = emqx_set[(emqx_set['config'] == \"config 1\") & (emqx_set['qos'] == 0)]\n",
    "emqx_config1_qos1_set = emqx_set[(emqx_set['config'] == \"config 1\") & (emqx_set['qos'] == 1)]\n",
    "emqx_config1_qos2_set = emqx_set[(emqx_set['config'] == \"config 1\") & (emqx_set['qos'] == 2)]\n",
    "\n",
    "print(f\"Number of received messages for EMQX, config 1, QoS 0:\\t{len(emqx_config1_qos0_set)}\")\n",
    "_,count=np.unique(emqx_config1_qos0_set['exec'], return_counts=True)\n",
    "avg_msg_emqx_config1_qos0_set=round(np.mean(count))\n",
    "print(f\"Average of received messages for EMQX, config 1, QoS 0:\\t{avg_msg_emqx_config1_qos0_set}\")\n",
    "print(f\"Number of lost messages for EMQX, config 1, QoS 0:\\t{(NUM_MSG*NUM_PUB) - avg_msg_emqx_config1_qos0_set}\\n\")\n",
    "\n",
    "print(f\"Number of received messages for EMQX, config 1, QoS 1:\\t{len(emqx_config1_qos1_set)}\")\n",
    "_,count=np.unique(emqx_config1_qos1_set['exec'], return_counts=True)\n",
    "avg_msg_emqx_config1_qos1_set=round(np.mean(count))\n",
    "print(f\"Average of received messages for EMQX, config 1, QoS 1:\\t{avg_msg_emqx_config1_qos1_set}\")\n",
    "print(f\"Number of lost messages for EMQX, config 1, QoS 1: {(NUM_MSG*NUM_PUB) - avg_msg_emqx_config1_qos1_set}\\n\")\n",
    "\n",
    "\n",
    "print(f\"Number of received messages for EMQX, config 1, QoS 2:\\t{len(emqx_config1_qos2_set)}\")\n",
    "_,count=np.unique(emqx_config1_qos2_set['exec'], return_counts=True)\n",
    "avg_msg_emqx_config1_qos2_set=round(np.mean(count))\n",
    "print(f\"Average received messages for EMQX, config 1, QoS 2:\\t{avg_msg_emqx_config1_qos2_set}\")\n",
    "print(f\"Number of lost messages for EMQX, config 1, QoS 2: {(NUM_MSG*NUM_PUB) - avg_msg_emqx_config1_qos2_set}\\n\")\n",
    "\n",
    "\n",
    "\n",
    "emqx_config2_qos0_set = emqx_set[(emqx_set['config'] == \"config 2\") & (emqx_set['qos'] == 0)]\n",
    "emqx_config2_qos1_set = emqx_set[(emqx_set['config'] == \"config 2\") & (emqx_set['qos'] == 1)]\n",
    "emqx_config2_qos2_set = emqx_set[(emqx_set['config'] == \"config 2\") & (emqx_set['qos'] == 2)]\n",
    "\n",
    "print(f\"Number of received messages for EMQX, config 2, QoS 0: {len(emqx_config2_qos0_set)}\")\n",
    "_,count=np.unique(emqx_config2_qos0_set['exec'], return_counts=True)\n",
    "avg_msg_emqx_config2_qos0_set=round(np.mean(count))\n",
    "print(f\"Average received messages for EMQX, config 2, QoS 0:\\t{avg_msg_emqx_config2_qos0_set}\")\n",
    "print(f\"Number of lost messages for EMQX, config 2, QoS 0: {(NUM_MSG*NUM_PUB) - avg_msg_emqx_config2_qos0_set}\\n\")\n",
    "\n",
    "print(f\"Number of received messages for EMQX, config 2, QoS 1: {len(emqx_config2_qos1_set)}\")\n",
    "_,count=np.unique(emqx_config2_qos1_set['exec'], return_counts=True)\n",
    "avg_msg_emqx_config2_qos1_set=round(np.mean(count))\n",
    "print(f\"Average received messages for EMQX, config 2, QoS 1:\\t{avg_msg_emqx_config2_qos1_set}\")\n",
    "print(f\"Number of lost messages for EMQX, config 2, QoS 1: {(NUM_MSG*NUM_PUB) - avg_msg_emqx_config2_qos1_set}\\n\")\n",
    "\n",
    "print(f\"Number of received messages for EMQX, config 2, QoS 2: {len(emqx_config2_qos2_set)}\")\n",
    "_,count=np.unique(emqx_config2_qos2_set['exec'], return_counts=True)\n",
    "avg_msg_emqx_config2_qos2_set=round(np.mean(count))\n",
    "print(f\"Average received messages for EMQX, config 2, QoS 2:\\t{avg_msg_emqx_config2_qos2_set}\")\n",
    "print(f\"Number of lost messages for EMQX, config 2, QoS 2: {(NUM_MSG*NUM_PUB) - avg_msg_emqx_config2_qos2_set}\\n\")"
   ]
  },
  {
   "cell_type": "code",
   "execution_count": 24,
   "id": "ebd6c9b6-2c9e-4899-89cd-ed9aed779827",
   "metadata": {},
   "outputs": [
    {
     "name": "stdout",
     "output_type": "stream",
     "text": [
      "Average latency for EMQX for subset with config 1, QoS 0: 4.93 ms\n",
      "Average latency for EMQX for subset with config 1, QoS 1: 5.64 ms\n",
      "Average latency for EMQX for subset with config 1, QoS 2: 9.4 ms\n",
      "Average latency for EMQX for subset with config 2, QoS 0: 4.82 ms\n",
      "Average latency for EMQX for subset with config 2, QoS 1: 6.18 ms\n",
      "Average latency for EMQX for subset with config 2, QoS 2: 9.31 ms\n"
     ]
    }
   ],
   "source": [
    "# Calculating the average of the latency column for each subset for EMQX\n",
    "latency_avg_emqx_config1_qo0 = np.mean(emqx_config1_qos0_set['latency'])\n",
    "latency_avg_emqx_config1_qo1 = np.mean(emqx_config1_qos1_set['latency'])\n",
    "latency_avg_emqx_config1_qo2 = np.mean(emqx_config1_qos2_set['latency'])\n",
    "\n",
    "latency_avg_emqx_config2_qo0 = np.mean(emqx_config2_qos0_set['latency'])\n",
    "latency_avg_emqx_config2_qo1 = np.mean(emqx_config2_qos1_set['latency'])\n",
    "latency_avg_emqx_config2_qo2 = np.mean(emqx_config2_qos2_set['latency'])\n",
    "\n",
    "print(f\"Average latency for EMQX for subset with config 1, QoS 0: {round(latency_avg_emqx_config1_qo0,2)} ms\")\n",
    "print(f\"Average latency for EMQX for subset with config 1, QoS 1: {round(latency_avg_emqx_config1_qo1,2)} ms\")\n",
    "print(f\"Average latency for EMQX for subset with config 1, QoS 2: {round(latency_avg_emqx_config1_qo2,2)} ms\")\n",
    "\n",
    "print(f\"Average latency for EMQX for subset with config 2, QoS 0: {round(latency_avg_emqx_config2_qo0,2)} ms\")\n",
    "print(f\"Average latency for EMQX for subset with config 2, QoS 1: {round(latency_avg_emqx_config2_qo1,2)} ms\")\n",
    "print(f\"Average latency for EMQX for subset with config 2, QoS 2: {round(latency_avg_emqx_config2_qo2,2)} ms\")"
   ]
  },
  {
   "cell_type": "code",
   "execution_count": 27,
   "id": "8a248bca-f3fe-42ee-8aaf-7697fd8bfa19",
   "metadata": {},
   "outputs": [
    {
     "name": "stdout",
     "output_type": "stream",
     "text": [
      "Number of received messages for HiveMQ, config 1, QoS 0: 22366\n",
      "Average of received messages for HiveMQ, config 1, QoS 0:\t4473\n",
      "Number of lost messages for HiveMQ, config 1, QoS 0:\t15527\n",
      "\n",
      "Number of received messages for HiveMQ, config 1, QoS 1: 100000\n",
      "Average of received messages for HiveMQ, config 1, QoS 1:\t20000\n",
      "Number of lost messages for HiveMQ, config 1, QoS 1:\t0\n",
      "\n",
      "Number of received messages for HiveMQ, config 1, QoS 2: 100000\n",
      "Average of received messages for HiveMQ, config 1, QoS 2:\t20000\n",
      "Number of lost messages for HiveMQ, config 1, QoS 2:\t0\n",
      "\n",
      "Number of received messages for HiveMQ, config 2, QoS 0: 24881\n",
      "Average of received messages for HiveMQ, config 2, QoS 0:\t4976\n",
      "Number of lost messages for HiveMQ, config 2, QoS 0:\t15024\n",
      "\n",
      "Number of received messages for HiveMQ, config 2, QoS 1: 100000\n",
      "Average of received messages for HiveMQ, config 2, QoS 1:\t20000\n",
      "Number of lost messages for HiveMQ, config 2, QoS 1:\t0\n",
      "\n",
      "Number of received messages for HiveMQ, config 2, QoS 2: 100000\n",
      "Average of received messages for HiveMQ, config 2, QoS 2:\t20000\n",
      "Number of lost messages for HiveMQ, config 2, QoS 2:\t0\n",
      "\n"
     ]
    }
   ],
   "source": [
    "# Creating subset by topic configuration and QoS for HiveMQ\n",
    "hivemq_config1_qos0_set = hivemq_set[(hivemq_set['config'] == \"config 1\") & (hivemq_set['qos'] == 0) ]\n",
    "hivemq_config1_qos1_set = hivemq_set[(hivemq_set['config'] == \"config 1\") & (hivemq_set['qos'] == 1) ]\n",
    "hivemq_config1_qos2_set = hivemq_set[(hivemq_set['config'] == \"config 1\") & (hivemq_set['qos'] == 2) ]\n",
    "\n",
    "print(f\"Number of received messages for HiveMQ, config 1, QoS 0: {len(hivemq_config1_qos0_set)}\")\n",
    "_,count=np.unique(hivemq_config1_qos0_set['exec'], return_counts=True)\n",
    "avg_msg_hivemq_config1_qos0_set=round(np.mean(count))\n",
    "print(f\"Average of received messages for HiveMQ, config 1, QoS 0:\\t{avg_msg_hivemq_config1_qos0_set}\")\n",
    "print(f\"Number of lost messages for HiveMQ, config 1, QoS 0:\\t{(NUM_MSG*NUM_PUB) - avg_msg_hivemq_config1_qos0_set}\\n\")\n",
    "\n",
    "\n",
    "print(f\"Number of received messages for HiveMQ, config 1, QoS 1: {len(hivemq_config1_qos1_set)}\")\n",
    "_,count=np.unique(hivemq_config1_qos1_set['exec'], return_counts=True)\n",
    "avg_msg_hivemq_config1_qos1_set=round(np.mean(count))\n",
    "print(f\"Average of received messages for HiveMQ, config 1, QoS 1:\\t{avg_msg_hivemq_config1_qos1_set}\")\n",
    "print(f\"Number of lost messages for HiveMQ, config 1, QoS 1:\\t{(NUM_MSG*NUM_PUB) - avg_msg_hivemq_config1_qos1_set}\\n\")\n",
    "\n",
    "\n",
    "print(f\"Number of received messages for HiveMQ, config 1, QoS 2: {len(hivemq_config1_qos2_set)}\")\n",
    "_,count=np.unique(hivemq_config1_qos2_set['exec'], return_counts=True)\n",
    "avg_msg_hivemq_config1_qos2_set=round(np.mean(count))\n",
    "print(f\"Average of received messages for HiveMQ, config 1, QoS 2:\\t{avg_msg_hivemq_config1_qos2_set}\")\n",
    "print(f\"Number of lost messages for HiveMQ, config 1, QoS 2:\\t{(NUM_MSG*NUM_PUB) - avg_msg_hivemq_config1_qos2_set}\\n\")\n",
    "\n",
    "hivemq_config2_qos0_set = hivemq_set[(hivemq_set['config'] == \"config 2\") & (hivemq_set['qos'] == 0) ]\n",
    "hivemq_config2_qos1_set = hivemq_set[(hivemq_set['config'] == \"config 2\") & (hivemq_set['qos'] == 1) ]\n",
    "hivemq_config2_qos2_set = hivemq_set[(hivemq_set['config'] == \"config 2\") & (hivemq_set['qos'] == 2) ]\n",
    "\n",
    "print(f\"Number of received messages for HiveMQ, config 2, QoS 0: {len(hivemq_config2_qos0_set)}\")\n",
    "_,count=np.unique(hivemq_config2_qos0_set['exec'], return_counts=True)\n",
    "avg_msg_hivemq_config2_qos0_set=round(np.mean(count))\n",
    "print(f\"Average of received messages for HiveMQ, config 2, QoS 0:\\t{avg_msg_hivemq_config2_qos0_set}\")\n",
    "print(f\"Number of lost messages for HiveMQ, config 2, QoS 0:\\t{(NUM_MSG*NUM_PUB) - avg_msg_hivemq_config2_qos0_set}\\n\")\n",
    "\n",
    "print(f\"Number of received messages for HiveMQ, config 2, QoS 1: {len(hivemq_config2_qos1_set)}\")\n",
    "_,count=np.unique(hivemq_config2_qos1_set['exec'], return_counts=True)\n",
    "avg_msg_hivemq_config2_qos1_set=round(np.mean(count))\n",
    "print(f\"Average of received messages for HiveMQ, config 2, QoS 1:\\t{avg_msg_hivemq_config2_qos1_set}\")\n",
    "print(f\"Number of lost messages for HiveMQ, config 2, QoS 1:\\t{(NUM_MSG*NUM_PUB) - avg_msg_hivemq_config2_qos1_set}\\n\")\n",
    "\n",
    "print(f\"Number of received messages for HiveMQ, config 2, QoS 2: {len(hivemq_config2_qos2_set)}\")\n",
    "_,count=np.unique(hivemq_config2_qos2_set['exec'], return_counts=True)\n",
    "avg_msg_hivemq_config2_qos2_set=round(np.mean(count))\n",
    "print(f\"Average of received messages for HiveMQ, config 2, QoS 2:\\t{avg_msg_hivemq_config2_qos2_set}\")\n",
    "print(f\"Number of lost messages for HiveMQ, config 2, QoS 2:\\t{(NUM_MSG*NUM_PUB) - avg_msg_hivemq_config2_qos2_set}\\n\")"
   ]
  },
  {
   "cell_type": "code",
   "execution_count": 28,
   "id": "6dfef17d-2979-4d1a-96f6-fed6c55026b0",
   "metadata": {},
   "outputs": [
    {
     "name": "stdout",
     "output_type": "stream",
     "text": [
      "Average latency for HiveMQ for subset with config 1, QoS 0: 5.94 ms\n",
      "Average latency for HiveMQ for subset with config 1, QoS 1: 14.17 ms\n",
      "Average latency for HiveMQ for subset with config 1, QoS 2: 22.74 ms\n",
      "Average latency for HiveMQ for subset with config 2, QoS 0: 6.06 ms\n",
      "Average latency for HiveMQ for subset with config 2, QoS 1: 14.16 ms\n",
      "Average latency for HiveMQ for subset with config 2, QoS 2: 24.97 ms\n"
     ]
    }
   ],
   "source": [
    "# Calculating the average of the latency column for each subset for HiveMQ\n",
    "latency_avg_hivemq_config1_qos0 = np.mean(hivemq_config1_qos0_set['latency'])\n",
    "latency_avg_hivemq_config1_qos1 = np.mean(hivemq_config1_qos1_set['latency'])\n",
    "latency_avg_hivemq_config1_qos2 = np.mean(hivemq_config1_qos2_set['latency'])\n",
    "\n",
    "latency_avg_hivemq_config2_qos0 = np.mean(hivemq_config2_qos0_set['latency'])\n",
    "latency_avg_hivemq_config2_qos1 = np.mean(hivemq_config2_qos1_set['latency'])\n",
    "latency_avg_hivemq_config2_qos2 = np.mean(hivemq_config2_qos2_set['latency'])\n",
    "\n",
    "print(f\"Average latency for HiveMQ for subset with config 1, QoS 0: {round(latency_avg_hivemq_config1_qos0,2)} ms\")\n",
    "print(f\"Average latency for HiveMQ for subset with config 1, QoS 1: {round(latency_avg_hivemq_config1_qos1,2)} ms\")\n",
    "print(f\"Average latency for HiveMQ for subset with config 1, QoS 2: {round(latency_avg_hivemq_config1_qos2,2)} ms\")\n",
    "\n",
    "print(f\"Average latency for HiveMQ for subset with config 2, QoS 0: {round(latency_avg_hivemq_config2_qos0,2)} ms\")\n",
    "print(f\"Average latency for HiveMQ for subset with config 2, QoS 1: {round(latency_avg_hivemq_config2_qos1,2)} ms\")\n",
    "print(f\"Average latency for HiveMQ for subset with config 2, QoS 2: {round(latency_avg_hivemq_config2_qos2,2)} ms\")"
   ]
  },
  {
   "cell_type": "code",
   "execution_count": null,
   "id": "d8ea434e-0598-4e98-a197-82cea6696710",
   "metadata": {},
   "outputs": [],
   "source": []
  }
 ],
 "metadata": {
  "kernelspec": {
   "display_name": "Python 3 (ipykernel)",
   "language": "python",
   "name": "python3"
  },
  "language_info": {
   "codemirror_mode": {
    "name": "ipython",
    "version": 3
   },
   "file_extension": ".py",
   "mimetype": "text/x-python",
   "name": "python",
   "nbconvert_exporter": "python",
   "pygments_lexer": "ipython3",
   "version": "3.9.5"
  }
 },
 "nbformat": 4,
 "nbformat_minor": 5
}
